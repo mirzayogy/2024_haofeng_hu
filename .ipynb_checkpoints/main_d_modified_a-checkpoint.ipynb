{
 "cells": [
  {
   "cell_type": "markdown",
   "id": "82b0107d",
   "metadata": {},
   "source": [
    "# Proses Gambar Sumber RAW Output A (modified)"
   ]
  },
  {
   "cell_type": "code",
   "execution_count": 4,
   "id": "a2cd032f",
   "metadata": {},
   "outputs": [],
   "source": [
    "import os\n",
    "import csv\n",
    "import cv2\n",
    "import numpy as np\n",
    "from tqdm import tqdm  # pastikan sudah install: pip install tqdm\n",
    "\n",
    "import importlib\n",
    "import lib.export\n",
    "import lib.D_acc_modified\n",
    "import lib.show\n",
    "importlib.reload(lib.export)\n",
    "importlib.reload(lib.D_acc_modified)\n",
    "importlib.reload(lib.show)\n",
    "from lib.export import ekspor_png\n",
    "from lib.D_acc_modified import get_ccf, get_ccf_wrapper, get_color_corrected_increased_dynamic_range\n",
    "from lib.show import show_image_matplotlib\n"
   ]
  },
  {
   "cell_type": "code",
   "execution_count": 5,
   "id": "31169dee",
   "metadata": {},
   "outputs": [
    {
     "name": "stdout",
     "output_type": "stream",
     "text": [
      "{'CCF': 6.656148920154634, 'cast': 'yellowish'}\n",
      "Before\n",
      "{'CCF': 0.6852321414771454, 'cast': 'no-color-cast'}\n",
      "After 1\n",
      "{'CCF': 1.0578669237282838, 'cast': 'bluish'}\n",
      "After 2\n",
      "{'CCF': 1.8849805244178404, 'cast': 'yellowish'}\n",
      "After 3\n",
      "{'CCF': 0.029333884591899045, 'cast': 'no-color-cast'}\n"
     ]
    }
   ],
   "source": [
    "pathfile = \"../UIEB/raw-890/\"\n",
    "# pathfile = \"../UIEB/results/2024_haofeng_hu_just_a/\"\n",
    "filename = \"15001.png\"\n",
    "fpath = pathfile + filename\n",
    "\n",
    "img = cv2.imread(fpath)\n",
    "# metrics = get_ccf_wrapper(image_path, device) # metrics['CCF']/metrics['cast']\n",
    "metrics = get_ccf(img, cie=True, device=\"cuda\")\n",
    "print(metrics)\n",
    "\n",
    "# show_image_matplotlib(img)\n",
    "\n",
    "im_increased, cast = get_color_corrected_increased_dynamic_range(fpath, device=\"cuda\")\n",
    "img_pil = (im_increased * 255).clip(0, 255).astype(np.uint8)\n",
    "img_cv = cv2.cvtColor(np.array(img_pil), cv2.COLOR_RGB2BGR)\n",
    "metrics = get_ccf(img_cv, cie=True, device=\"cuda\")\n",
    "print(\"Before\")\n",
    "print(metrics)\n",
    "\n",
    "# show_image_matplotlib(img_cv)\n",
    "\n",
    "\n",
    "ekspor_png(im_increased, \"temp/\",\"temp.png\")\n",
    "img_cv2 = cv2.imread(\"temp/temp.png\")\n",
    "im_increased, cast = get_color_corrected_increased_dynamic_range(\"temp/temp.png\", device=\"cuda\")\n",
    "img_pil = (im_increased * 255).clip(0, 255).astype(np.uint8)\n",
    "img_cv = cv2.cvtColor(np.array(img_pil), cv2.COLOR_RGB2BGR)\n",
    "metrics = get_ccf(img_cv2, cie=True, device=\"cuda\")\n",
    "print(\"After 1\")\n",
    "print(metrics)\n",
    "\n",
    "ekspor_png(im_increased, \"temp/\",\"temp.png\")\n",
    "img_cv2 = cv2.imread(\"temp/temp.png\")\n",
    "im_increased, cast = get_color_corrected_increased_dynamic_range(\"temp/temp.png\", device=\"cuda\")\n",
    "img_pil = (im_increased * 255).clip(0, 255).astype(np.uint8)\n",
    "img_cv = cv2.cvtColor(np.array(img_pil), cv2.COLOR_RGB2BGR)\n",
    "metrics = get_ccf(img_cv2, cie=True, device=\"cuda\")\n",
    "print(\"After 2\")\n",
    "print(metrics)\n",
    "\n",
    "ekspor_png(im_increased, \"temp/\",\"temp.png\")\n",
    "img_cv2 = cv2.imread(\"temp/temp.png\")\n",
    "im_increased, cast = get_color_corrected_increased_dynamic_range(\"temp/temp.png\", device=\"cuda\")\n",
    "img_pil = (im_increased * 255).clip(0, 255).astype(np.uint8)\n",
    "img_cv = cv2.cvtColor(np.array(img_pil), cv2.COLOR_RGB2BGR)\n",
    "metrics = get_ccf(img_cv2, cie=True, device=\"cuda\")\n",
    "print(\"After 3\")\n",
    "print(metrics)"
   ]
  },
  {
   "cell_type": "code",
   "execution_count": 6,
   "id": "cc7a7d53",
   "metadata": {},
   "outputs": [
    {
     "ename": "",
     "evalue": "",
     "output_type": "error",
     "traceback": [
      "\u001b[1;31mThe Kernel crashed while executing code in the current cell or a previous cell. \n",
      "\u001b[1;31mPlease review the code in the cell(s) to identify a possible cause of the failure. \n",
      "\u001b[1;31mClick <a href='https://aka.ms/vscodeJupyterKernelCrash'>here</a> for more info. \n",
      "\u001b[1;31mView Jupyter <a href='command:jupyter.viewOutput'>log</a> for further details."
     ]
    }
   ],
   "source": [
    "show_image_matplotlib(img)\n"
   ]
  },
  {
   "cell_type": "code",
   "execution_count": 30,
   "id": "6e42fad8",
   "metadata": {},
   "outputs": [],
   "source": [
    "def batch_lab_metrics_resume(\n",
    "    input_folder: str,\n",
    "    process_name: str,\n",
    "    cie: bool = True,\n",
    "    device: str = \"cuda\",\n",
    "    exts=(\".jpg\", \".jpeg\", \".png\", \".bmp\", \".tif\", \".tiff\"),\n",
    "    recursive: bool = False,\n",
    "    limit: int | None = None,\n",
    "):\n",
    "    \"\"\"\n",
    "    Batch processing dengan resume otomatis dari CSV + progress bar.\n",
    "    - Baca CSV (jika ada) → skip file yang sudah diproses.\n",
    "    - Proses hanya file sisa (bisa dibatasi 'limit').\n",
    "    - Progress bar ditampilkan dengan tqdm.\n",
    "    - Append hasil ke CSV (header ditulis kalau CSV belum ada).\n",
    "    \"\"\"\n",
    "    # 1) Kumpulkan semua file gambar\n",
    "    all_files = []\n",
    "    walker = os.walk(input_folder) if recursive else [(input_folder, [], os.listdir(input_folder))]\n",
    "    for root, _, files in walker:\n",
    "        for fname in files:\n",
    "            if fname.lower().endswith(exts):\n",
    "                all_files.append(os.path.abspath(os.path.join(root, fname)))\n",
    "    all_files.sort()\n",
    "\n",
    "    done = set()\n",
    "\n",
    "    # 3) Tentukan sisa file\n",
    "    remaining = [p for p in all_files if p not in done]\n",
    "    if limit is not None:\n",
    "        remaining = remaining[:max(0, limit)]\n",
    "\n",
    "    if not remaining:\n",
    "        print(f\"Tidak ada file baru untuk diproses. Total sudah diproses: {len(done)}.\")\n",
    "        return 0\n",
    "\n",
    "    # 4) Proses file dengan progress bar\n",
    "    for fpath in tqdm(remaining, desc=\"Processing images\", unit=\"img\"):\n",
    "        filename = os.path.basename(fpath)\n",
    "\n",
    "        im_increased, cast = get_color_corrected_increased_dynamic_range(fpath, device=\"cuda\")\n",
    "        ekspor_png(im_increased, \"../UIEB/results/\" + process_name, filename)\n",
    "\n",
    "\n",
    "    print(f\"Selesai. Diproses file baru. Total sebelumnya: {len(done)}. \"\n",
    "          f\"Total sekarang (CSV) ≈ {len(done)}.\")\n",
    "    \n"
   ]
  }
 ],
 "metadata": {
  "kernelspec": {
   "display_name": "base",
   "language": "python",
   "name": "python3"
  },
  "language_info": {
   "codemirror_mode": {
    "name": "ipython",
    "version": 3
   },
   "file_extension": ".py",
   "mimetype": "text/x-python",
   "name": "python",
   "nbconvert_exporter": "python",
   "pygments_lexer": "ipython3",
   "version": "3.13.5"
  }
 },
 "nbformat": 4,
 "nbformat_minor": 5
}
