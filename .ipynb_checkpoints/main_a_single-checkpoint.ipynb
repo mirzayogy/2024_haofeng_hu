{
 "cells": [
  {
   "cell_type": "code",
   "execution_count": 1,
   "id": "acbf3708",
   "metadata": {},
   "outputs": [
    {
     "name": "stdout",
     "output_type": "stream",
     "text": [
      "RAW:\n",
      " 15113.png => UIQM: 2.481670864459315 => UCIQE: 0.4412431700040717\n",
      "ACC:\n",
      " 15113.png => UIQM: 2.4742750340645205 => UCIQE: 0.7093784592605568\n",
      "ECLAHE:\n",
      " 15113.png => UIQM: 2.535467724273895 => UCIQE: 0.7317951840380232\n",
      "MSDS:\n",
      " 15113.png => UIQM: 3.0564641411537163 => UCIQE: 0.8724327743369646\n"
     ]
    }
   ],
   "source": [
    "import importlib\n",
    "import lib.export\n",
    "import lib.A_acc\n",
    "import lib.B_eclahe\n",
    "import lib.C_msds\n",
    "import lib.show_new\n",
    "import lib.validation\n",
    "importlib.reload(lib.export)\n",
    "importlib.reload(lib.A_acc)\n",
    "importlib.reload(lib.B_eclahe)\n",
    "importlib.reload(lib.C_msds)\n",
    "importlib.reload(lib.show_new)\n",
    "importlib.reload(lib.validation)\n",
    "from lib.export import ekspor_png\n",
    "from lib.A_acc import get_color_corrected_increased_dynamic_range\n",
    "from lib.B_eclahe import apply_clahe_modified\n",
    "from lib.C_msds import enhance_L_with_D_lab\n",
    "from lib.show_new import show_image_group_auto\n",
    "from lib.validation import getScore_flexible\n",
    "\n",
    "\n",
    "filename = \"15113.png\"\n",
    "raw_location = \"../UIEB/raw-890/\" + filename\n",
    "filename, uiqm, uciqe = getScore_flexible(raw_location, \"\")\n",
    "print(f\"RAW:\\n {filename} => UIQM: {uiqm} => UCIQE: {uciqe}\")\n",
    "\n",
    "# A_acc\n",
    "im_increased, cast = get_color_corrected_increased_dynamic_range(raw_location, device=\"cuda\")\n",
    "# ekspor_png(im_increased, \"temp\", \"A_\" + filename)\n",
    "filename, uiqm, uciqe = getScore_flexible(im_increased, filename)\n",
    "print(f\"ACC:\\n {filename} => UIQM: {uiqm} => UCIQE: {uciqe}\")\n",
    "\n",
    "# B_eclahe\n",
    "im_eclahed = apply_clahe_modified(im_increased, mode=\"lab\", tile_grid_size=(8,8), mu=0.3, q=1e-6)\n",
    "# ekspor_png(im_eclahed, \"temp\", \"B_\" + filename)\n",
    "filename, uiqm, uciqe = getScore_flexible(im_eclahed, filename)\n",
    "print(f\"ECLAHE:\\n {filename} => UIQM: {uiqm} => UCIQE: {uciqe}\")\n",
    "\n",
    "# C_msds\n",
    "im_detailed = enhance_L_with_D_lab(im_increased)\n",
    "# ekspor_png(im_detailed, \"temp\", \"C_\" + filename)\n",
    "filename, uiqm, uciqe = getScore_flexible(im_detailed, filename)\n",
    "print(f\"MSDS:\\n {filename} => UIQM: {uiqm} => UCIQE: {uciqe}\")\n",
    "\n"
   ]
  }
 ],
 "metadata": {
  "kernelspec": {
   "display_name": "base",
   "language": "python",
   "name": "python3"
  },
  "language_info": {
   "codemirror_mode": {
    "name": "ipython",
    "version": 3
   },
   "file_extension": ".py",
   "mimetype": "text/x-python",
   "name": "python",
   "nbconvert_exporter": "python",
   "pygments_lexer": "ipython3",
   "version": "3.13.5"
  }
 },
 "nbformat": 4,
 "nbformat_minor": 5
}
