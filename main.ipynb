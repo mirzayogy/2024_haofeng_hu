{
 "cells": [
  {
   "cell_type": "code",
   "execution_count": 5,
   "id": "6a515715",
   "metadata": {},
   "outputs": [
    {
     "data": {
      "text/plain": [
       "0.5564740649227248"
      ]
     },
     "execution_count": 5,
     "metadata": {},
     "output_type": "execute_result"
    }
   ],
   "source": [
    "import importlib\n",
    "import lib.ccf\n",
    "importlib.reload(lib.ccf)\n",
    "from lib.ccf import getCCF\n",
    "\n",
    "# CCF = getCCF(\"../UIEB/pernah/18_img_.png\")\n",
    "CCF = getCCF(\"../UIEB/reference-890/18_img_.png\")\n",
    "CCF\n"
   ]
  },
  {
   "cell_type": "markdown",
   "id": "56c7c36f",
   "metadata": {},
   "source": [
    "Pakai TORCH"
   ]
  },
  {
   "cell_type": "code",
   "execution_count": null,
   "id": "1ad3d98d",
   "metadata": {},
   "outputs": [
    {
     "ename": "ModuleNotFoundError",
     "evalue": "No module named 'torch'",
     "output_type": "error",
     "traceback": [
      "\u001b[0;31m---------------------------------------------------------------------------\u001b[0m",
      "\u001b[0;31mModuleNotFoundError\u001b[0m                       Traceback (most recent call last)",
      "Cell \u001b[0;32mIn[4], line 2\u001b[0m\n\u001b[1;32m      1\u001b[0m \u001b[38;5;28;01mimport\u001b[39;00m \u001b[38;5;21;01mcv2\u001b[39;00m\n\u001b[0;32m----> 2\u001b[0m \u001b[38;5;28;01mimport\u001b[39;00m \u001b[38;5;21;01mtorch\u001b[39;00m\n\u001b[1;32m      4\u001b[0m \u001b[38;5;28;01mdef\u001b[39;00m \u001b[38;5;21mlab_metrics_gpu\u001b[39m(img_array, cie\u001b[38;5;241m=\u001b[39m\u001b[38;5;28;01mFalse\u001b[39;00m, device\u001b[38;5;241m=\u001b[39m\u001b[38;5;124m\"\u001b[39m\u001b[38;5;124mcuda\u001b[39m\u001b[38;5;124m\"\u001b[39m):\n\u001b[1;32m      5\u001b[0m \u001b[38;5;250m    \u001b[39m\u001b[38;5;124;03m\"\"\"\u001b[39;00m\n\u001b[1;32m      6\u001b[0m \u001b[38;5;124;03m    Hitung m_a, m_b, M, D_a, D_b, D, dan cast menggunakan PyTorch GPU.\u001b[39;00m\n\u001b[1;32m      7\u001b[0m \u001b[38;5;124;03m    \"\"\"\u001b[39;00m\n",
      "\u001b[0;31mModuleNotFoundError\u001b[0m: No module named 'torch'"
     ]
    }
   ],
   "source": [
    "# import cv2\n",
    "# import torch\n",
    "\n",
    "# def lab_metrics_gpu(img_array, cie=False, device=\"cuda\"):\n",
    "#     \"\"\"\n",
    "#     Hitung m_a, m_b, M, D_a, D_b, D, dan cast menggunakan PyTorch GPU.\n",
    "#     \"\"\"\n",
    "#     if img_array is None:\n",
    "#         raise ValueError(\"Input harus berupa numpy array gambar.\")\n",
    "\n",
    "#     # Konversi BGR -> Lab (CPU OpenCV)\n",
    "#     lab = cv2.cvtColor(img_array, cv2.COLOR_BGR2Lab)\n",
    "#     L, a, b = cv2.split(lab)\n",
    "\n",
    "#     # Convert ke tensor di GPU\n",
    "#     a = torch.tensor(a, dtype=torch.float32, device=device)\n",
    "#     b = torch.tensor(b, dtype=torch.float32, device=device)\n",
    "\n",
    "#     if cie:\n",
    "#         a -= 128.0\n",
    "#         b -= 128.0\n",
    "\n",
    "#     N = a.numel()\n",
    "\n",
    "#     # Mean\n",
    "#     m_a = torch.sum(a) / N\n",
    "#     m_b = torch.sum(b) / N\n",
    "\n",
    "#     # Magnitude M\n",
    "#     M = torch.sqrt(m_a**2 + m_b**2)\n",
    "\n",
    "#     # Deviation\n",
    "#     D_a = torch.sum(torch.abs(a - m_a)) / N\n",
    "#     D_b = torch.sum(torch.abs(b - m_b)) / N\n",
    "#     D = torch.sqrt(D_a**2 + D_b**2)\n",
    "\n",
    "#     # Cast classification\n",
    "#     ratio = torch.abs(m_a / m_b) if m_b != 0 else torch.tensor(float(\"inf\"), device=device)\n",
    "#     if (m_a < 0) and (ratio >= 1):\n",
    "#         cast = \"greenish\"\n",
    "#     elif (m_b < 0) and (ratio < 1):\n",
    "#         cast = \"bluish\"\n",
    "#     else:\n",
    "#         cast = \"yellowish\"\n",
    "\n",
    "#     return {\n",
    "#         \"m_a\": float(m_a.item()),\n",
    "#         \"m_b\": float(m_b.item()),\n",
    "#         \"M\": float(M.item()),\n",
    "#         \"D_a\": float(D_a.item()),\n",
    "#         \"D_b\": float(D_b.item()),\n",
    "#         \"D\": float(D.item()),\n",
    "#         \"cast\": cast\n",
    "#     }\n",
    "\n",
    "# # -------- contoh pemanggilan ----------\n",
    "# if __name__ == \"__main__\":\n",
    "#     img = cv2.imread(\"../UIEB/reference-890/18_img_.png\")\n",
    "#     metrics = lab_metrics_gpu(img, cie=True, device=\"cuda\")\n",
    "#     print(metrics)\n"
   ]
  }
 ],
 "metadata": {
  "kernelspec": {
   "display_name": "base",
   "language": "python",
   "name": "python3"
  },
  "language_info": {
   "codemirror_mode": {
    "name": "ipython",
    "version": 3
   },
   "file_extension": ".py",
   "mimetype": "text/x-python",
   "name": "python",
   "nbconvert_exporter": "python",
   "pygments_lexer": "ipython3",
   "version": "3.11.7"
  }
 },
 "nbformat": 4,
 "nbformat_minor": 5
}
