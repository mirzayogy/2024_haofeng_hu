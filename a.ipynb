{
 "cells": [
  {
   "cell_type": "code",
   "execution_count": 2,
   "id": "fe390621",
   "metadata": {},
   "outputs": [],
   "source": [
    "import importlib\n",
    "import lib.export\n",
    "import lib.A_acc\n",
    "import lib.B_eclahe\n",
    "import lib.C_msds\n",
    "import lib.show\n",
    "importlib.reload(lib.export)\n",
    "importlib.reload(lib.A_acc)\n",
    "importlib.reload(lib.B_eclahe)\n",
    "importlib.reload(lib.C_msds)\n",
    "importlib.reload(lib.show)\n",
    "from lib.export import ekspor_png\n",
    "from lib.A_acc import get_color_corrected_increased_dynamic_range\n",
    "from lib.B_eclahe import apply_clahe_modified\n",
    "from lib.C_msds import enhance_L_with_D_lab\n",
    "from lib.show import show_image_group_auto\n",
    "\n",
    "\n",
    "filename = \"12324.png\"\n",
    "raw_location = \"../UIEB/raw-890/\" + filename\n",
    "\n",
    "# A_acc\n",
    "im_increased = get_color_corrected_increased_dynamic_range(raw_location, device=\"cuda\")\n",
    "\n",
    "# ekspor A (optional)\n",
    "ekspor_png(im_increased, \"temp\", \"A_\" + filename)\n",
    "\n",
    "# B_eclahe\n",
    "im_eclahed = apply_clahe_modified(im_increased, mode=\"lab\", tile_grid_size=(8,8), mu=0.3, q=1e-6)\n",
    "\n",
    "# ekspor B (optional)\n",
    "ekspor_png(im_eclahed, \"temp\", \"B_\" + filename)\n",
    "\n",
    "# C_msds\n",
    "im_detailed = enhance_L_with_D_lab(im_increased)\n",
    "\n",
    "# ekspor C (optional)\n",
    "ekspor_png(im_detailed, \"temp\", \"C_\" + filename)\n",
    "\n",
    "\n",
    "reference_location = \"../UIEB/reference-890/\" + filename\n",
    "myresult_location = \"../UIEB/results_1/c_gray_world/5/\" + filename\n",
    "\n",
    "im_array = []\n",
    "im_array.append(raw_location)\n",
    "im_array.append(reference_location)\n",
    "# im_array.append(\"temp/temporary.png\")\n",
    "im_array.append(myresult_location)\n",
    "\n",
    "\n",
    "import pandas as pd\n",
    "df = pd.DataFrame({'image': im_array, 'label': im_array})\n",
    "\n",
    "# show_image_group_auto(df)"
   ]
  }
 ],
 "metadata": {
  "kernelspec": {
   "display_name": "base",
   "language": "python",
   "name": "python3"
  },
  "language_info": {
   "codemirror_mode": {
    "name": "ipython",
    "version": 3
   },
   "file_extension": ".py",
   "mimetype": "text/x-python",
   "name": "python",
   "nbconvert_exporter": "python",
   "pygments_lexer": "ipython3",
   "version": "3.13.5"
  }
 },
 "nbformat": 4,
 "nbformat_minor": 5
}
