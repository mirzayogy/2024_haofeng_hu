{
 "cells": [
  {
   "cell_type": "code",
   "execution_count": null,
   "id": "d96f9917",
   "metadata": {},
   "outputs": [
    {
     "ename": "",
     "evalue": "",
     "output_type": "error",
     "traceback": [
      "\u001b[1;31mThe Kernel crashed while executing code in the current cell or a previous cell. \n",
      "\u001b[1;31mPlease review the code in the cell(s) to identify a possible cause of the failure. \n",
      "\u001b[1;31mClick <a href='https://aka.ms/vscodeJupyterKernelCrash'>here</a> for more info. \n",
      "\u001b[1;31mView Jupyter <a href='command:jupyter.viewOutput'>log</a> for further details."
     ]
    }
   ],
   "source": [
    "import importlib\n",
    "import lib.show\n",
    "import lib.A_acc\n",
    "importlib.reload(lib.show)\n",
    "importlib.reload(lib.A_acc)\n",
    "from lib.show import show_image_from_path, show_image_matplotlib, show_image_group_auto\n",
    "from lib.A_acc import get_color_corrected, get_color_corrected_increased_dynamic_range\n",
    "\n",
    "# an_image = \"../UIEB/pernah/44_img_.png\" # bluish\n",
    "# an_image = \"../UIEB/pernah/121_img_.png\" # bluish\n",
    "# an_image = \"../UIEB/pernah/383_img_.png\" # greenish\n",
    "# an_image = \"../UIEB/pernah/906_img_.png\" # greenish\n",
    "# an_image = \"../UIEB/pernah/202_img_.png\" # yellowish\n",
    "# an_image = \"../UIEB/pernah/471_img_.png\" # yellowish\n",
    "\n",
    "an_image = \"../UIEB/raw-890/12324.png\" # JADI BIRU\n",
    "an_image = \"../UIEB/raw-890/12433.png\" # JADI MERAH\n",
    "an_image = \"../UIEB/raw-890/15113.png\" # JADI MERAH\n",
    "\n",
    "show_image_from_path(an_image) # visualize the image and the label\n",
    "im_increased = get_color_corrected_increased_dynamic_range(an_image)\n",
    "show_image_matplotlib(im_increased)\n",
    "\n",
    "\n",
    "# cv2.imwrite(filename, cv2.cvtColor(im_increased, cv2.COLOR_RGB2BGR))\n",
    "\n",
    "\n",
    "# im_pilihan = [\"12290.png\",\n",
    "#         \"12324.png\",\n",
    "#         \"12348.png\",\n",
    "#         \"3650.png\"]\n",
    "    \n",
    "# im_pilihan_path = [f\"../UIEB/raw-890/{nama}\" for nama in im_pilihan]\n",
    "# im_pilihan_ref_path = [f\"../UIEB/reference-890/{nama}\" for nama in im_pilihan]\n",
    "# df = pd.DataFrame({'image': im_pilihan_path, 'label': im_pilihan, 'ref': im_pilihan_ref_path})"
   ]
  }
 ],
 "metadata": {
  "kernelspec": {
   "display_name": "base",
   "language": "python",
   "name": "python3"
  },
  "language_info": {
   "codemirror_mode": {
    "name": "ipython",
    "version": 3
   },
   "file_extension": ".py",
   "mimetype": "text/x-python",
   "name": "python",
   "nbconvert_exporter": "python",
   "pygments_lexer": "ipython3",
   "version": "3.13.5"
  }
 },
 "nbformat": 4,
 "nbformat_minor": 5
}
