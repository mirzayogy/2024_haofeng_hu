{
 "cells": [
  {
   "cell_type": "markdown",
   "id": "82b0107d",
   "metadata": {},
   "source": [
    "# Proses Gambar Sumber RAW Output A (modified)"
   ]
  },
  {
   "cell_type": "code",
   "execution_count": 21,
   "id": "85ee86ff",
   "metadata": {},
   "outputs": [
    {
     "data": {
      "text/html": [
       "<div>\n",
       "<style scoped>\n",
       "    .dataframe tbody tr th:only-of-type {\n",
       "        vertical-align: middle;\n",
       "    }\n",
       "\n",
       "    .dataframe tbody tr th {\n",
       "        vertical-align: top;\n",
       "    }\n",
       "\n",
       "    .dataframe thead th {\n",
       "        text-align: right;\n",
       "    }\n",
       "</style>\n",
       "<table border=\"1\" class=\"dataframe\">\n",
       "  <thead>\n",
       "    <tr style=\"text-align: right;\">\n",
       "      <th></th>\n",
       "      <th>filename</th>\n",
       "    </tr>\n",
       "  </thead>\n",
       "  <tbody>\n",
       "    <tr>\n",
       "      <th>0</th>\n",
       "      <td>10151.png</td>\n",
       "    </tr>\n",
       "    <tr>\n",
       "      <th>1</th>\n",
       "      <td>112_img_.png</td>\n",
       "    </tr>\n",
       "    <tr>\n",
       "      <th>2</th>\n",
       "      <td>121_img_.png</td>\n",
       "    </tr>\n",
       "  </tbody>\n",
       "</table>\n",
       "</div>"
      ],
      "text/plain": [
       "       filename\n",
       "0     10151.png\n",
       "1  112_img_.png\n",
       "2  121_img_.png"
      ]
     },
     "execution_count": 21,
     "metadata": {},
     "output_type": "execute_result"
    }
   ],
   "source": [
    "import pandas as pd\n",
    "df_hasil_a = pd.read_csv('csv/pernah.csv')\n",
    "df_hasil_a.head(3)"
   ]
  },
  {
   "cell_type": "code",
   "execution_count": 8,
   "id": "d54ad6ec",
   "metadata": {},
   "outputs": [
    {
     "data": {
      "text/html": [
       "<div>\n",
       "<style scoped>\n",
       "    .dataframe tbody tr th:only-of-type {\n",
       "        vertical-align: middle;\n",
       "    }\n",
       "\n",
       "    .dataframe tbody tr th {\n",
       "        vertical-align: top;\n",
       "    }\n",
       "\n",
       "    .dataframe thead th {\n",
       "        text-align: right;\n",
       "    }\n",
       "</style>\n",
       "<table border=\"1\" class=\"dataframe\">\n",
       "  <thead>\n",
       "    <tr style=\"text-align: right;\">\n",
       "      <th></th>\n",
       "      <th>id</th>\n",
       "      <th>filename</th>\n",
       "      <th>cast</th>\n",
       "    </tr>\n",
       "  </thead>\n",
       "  <tbody>\n",
       "    <tr>\n",
       "      <th>0</th>\n",
       "      <td>0</td>\n",
       "      <td>100_img_.png</td>\n",
       "      <td>bluish</td>\n",
       "    </tr>\n",
       "    <tr>\n",
       "      <th>1</th>\n",
       "      <td>1</td>\n",
       "      <td>10139.png</td>\n",
       "      <td>greenish</td>\n",
       "    </tr>\n",
       "    <tr>\n",
       "      <th>2</th>\n",
       "      <td>2</td>\n",
       "      <td>10151.png</td>\n",
       "      <td>greenish</td>\n",
       "    </tr>\n",
       "  </tbody>\n",
       "</table>\n",
       "</div>"
      ],
      "text/plain": [
       "   id      filename      cast\n",
       "0   0  100_img_.png    bluish\n",
       "1   1     10139.png  greenish\n",
       "2   2     10151.png  greenish"
      ]
     },
     "execution_count": 8,
     "metadata": {},
     "output_type": "execute_result"
    }
   ],
   "source": [
    "import pandas as pd\n",
    "df_hasil_a = pd.read_csv('hasil/2024_haofeng_hu_a.csv')\n",
    "df_hasil_a.head(3)"
   ]
  },
  {
   "cell_type": "code",
   "execution_count": 16,
   "id": "4bb96867",
   "metadata": {},
   "outputs": [
    {
     "name": "stdout",
     "output_type": "stream",
     "text": [
      "cast\n",
      "no-color-cast    219\n",
      "Name: count, dtype: int64\n",
      "cast\n",
      "bluish    236\n",
      "Name: count, dtype: int64\n",
      "cast\n",
      "greenish    371\n",
      "Name: count, dtype: int64\n",
      "cast\n",
      "yellowish    64\n",
      "Name: count, dtype: int64\n"
     ]
    }
   ],
   "source": [
    "# find which rows have \"no-color-cast\" in the \"cast\" column\n",
    "# df_hasil_a['cast']=='no-color-cast'\n",
    "# filter dataframe based on condition\n",
    "# df_hasil_a[df_hasil_a['cast']=='no-color-cast']\n",
    "# verify which hasil are in the \"cast\" column with value_counts()\n",
    "print(df_hasil_a[df_hasil_a['cast']=='no-color-cast'].value_counts('cast'))\n",
    "print(df_hasil_a[df_hasil_a['cast']=='bluish'].value_counts('cast'))\n",
    "print(df_hasil_a[df_hasil_a['cast']=='greenish'].value_counts('cast'))\n",
    "print(df_hasil_a[df_hasil_a['cast']=='yellowish'].value_counts('cast'))"
   ]
  },
  {
   "cell_type": "code",
   "execution_count": 19,
   "id": "2c4c8530",
   "metadata": {},
   "outputs": [
    {
     "name": "stdout",
     "output_type": "stream",
     "text": [
      "cast\n",
      "no-color-cast    732\n",
      "Name: count, dtype: int64\n",
      "cast\n",
      "bluish    73\n",
      "Name: count, dtype: int64\n",
      "cast\n",
      "greenish    32\n",
      "Name: count, dtype: int64\n",
      "cast\n",
      "yellowish    53\n",
      "Name: count, dtype: int64\n"
     ]
    }
   ],
   "source": [
    "import pandas as pd\n",
    "df_hasil_b = pd.read_csv('hasil/2024_haofeng_hu_b.csv')\n",
    "df_hasil_b.head(3)\n",
    "print(df_hasil_b[df_hasil_b['cast']=='no-color-cast'].value_counts('cast'))\n",
    "print(df_hasil_b[df_hasil_b['cast']=='bluish'].value_counts('cast'))\n",
    "print(df_hasil_b[df_hasil_b['cast']=='greenish'].value_counts('cast'))\n",
    "print(df_hasil_b[df_hasil_b['cast']=='yellowish'].value_counts('cast'))"
   ]
  },
  {
   "cell_type": "code",
   "execution_count": 2,
   "id": "f2b05ce3",
   "metadata": {},
   "outputs": [
    {
     "name": "stdout",
     "output_type": "stream",
     "text": [
      "set()\n"
     ]
    }
   ],
   "source": [
    "import os,csv\n",
    "# 1) Baca CSV untuk skip file yang sudah diproses\n",
    "input_csv = \"2024_haofeng_hu_a.csv\"\n",
    "done = set()\n",
    "if os.path.exists(input_csv):\n",
    "    try:\n",
    "        with open(input_csv, \"r\", newline=\"\", encoding=\"utf-8\") as f:\n",
    "            reader = csv.reader(f)\n",
    "            header = next(reader, None)\n",
    "            for row in reader:\n",
    "                if row:\n",
    "                    done.add(os.path.abspath(row[0]))\n",
    "    except Exception as e:\n",
    "        print(f\"[PERINGATAN] Gagal baca CSV: {e}, lanjut tanpa resume.\")\n",
    "        done = set()\n",
    "\n",
    "# 2) Tentukan sisa file\n",
    "all_files = []\n",
    "limit = None\n",
    "remaining = [p for p in all_files if p not in done]\n",
    "if limit is not None:\n",
    "    remaining = remaining[:max(0, limit)]\n",
    "\n",
    "print(done)"
   ]
  },
  {
   "cell_type": "markdown",
   "id": "21121993",
   "metadata": {},
   "source": [
    "102_img_.png greenish -> yellowish 1.5316730482492649\n",
    "104_img_.png bluish -> bluish 1.2097321665161656\n",
    "107_img_.png bluish -> bluish 1.2932880980142356\n",
    "10_img_.png bluish -> bluish 1.300357854702698\n",
    "108_img_.png greenish-> greenish 3.510571732480775\n",
    "10945.png bluish-> greenish 1.0407622980306688\n",
    "111_img_.png bluish-> bluish 1.1859838456442136\n",
    "113_img_.png greenish-> yellowish 1.003210833280044\n",
    "114_img_.png bluish-> bluish 1.1891120339449206\n",
    "115_img_.png bluish-> bluish 1.5829973269807742\n",
    "120_img_.png bluish-> bluish 1.016073242153681\n",
    "12336.png no-color-cast-> greenish 1.2415023879571245\n",
    "12433.png greenish-> yellowish 1.6032485068771687\n",
    "12445.png bluish-> yellowish 2.008122341539302\n",
    "12900.png greenish-> yellowish 2.172484898001756\n",
    "131_img_.png bluish-> bluish 1.3387502447838295\n",
    "138_img_.png bluish-> bluish 1.182464706090961\n",
    "145_img_.png bluish-> greenish 1.6352173290024223\n",
    "15094.png greenish-> greenish 1.0127638362657934\n",
    "1742.png greenish-> yellowish 1.5919935234413785\n",
    "18_img_.png greenish-> yellowish 1.075050964656185\n",
    "186_img_.png bluish-> bluish 1.1582241740771666\n",
    "189_img_.png greenish-> greenish 1.6245534725721837\n",
    "202_img_.png yellowish-> yellowish 1.963733117748857\n",
    "208_img_.png greenish-> yellowish 1.157954396668117\n",
    "229_img_.png bluish-> yellowish 2.171390434249527\n",
    "272_img_.png no-color-cast-> greenish 1.0179095067262882\n",
    "274_img_.png greenish-> greenish 1.5092736805163658\n",
    "276_img_.png no-color-cast-> greenish 1.0869144440137284\n",
    "296_img_.png greenish-> greenish 1.199391382743877\n",
    "10139.png greenish-> no-color-cast 0.6653257251842517\n",
    "105_img_.png greenish-> no-color-cast 0.3276532609866705\n",
    "116_img_.png greenish-> no-color-cast 0.5152270270089745\n",
    "12299.png no-color-cast-> no-color-cast 0.8919064820498562\n",
    "137_img_.png bluish-> no-color-cast 0.4655331069674995\n",
    "1407.png no-color-cast-> no-color-cast 0.4571113050011408\n",
    "143_img_.png greenish-> no-color-cast 0.3964636664049659\n",
    "15045.png greenish-> no-color-cast 0.4234045229225008\n",
    "151_img_.png bluish-> no-color-cast 0.915898779928032\n",
    "158_img_.png no-color-cast-> no-color-cast 0.30554817308465326"
   ]
  }
 ],
 "metadata": {
  "kernelspec": {
   "display_name": "base",
   "language": "python",
   "name": "python3"
  },
  "language_info": {
   "codemirror_mode": {
    "name": "ipython",
    "version": 3
   },
   "file_extension": ".py",
   "mimetype": "text/x-python",
   "name": "python",
   "nbconvert_exporter": "python",
   "pygments_lexer": "ipython3",
   "version": "3.11.7"
  }
 },
 "nbformat": 4,
 "nbformat_minor": 5
}
