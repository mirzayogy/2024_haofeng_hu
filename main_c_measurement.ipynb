{
 "cells": [
  {
   "cell_type": "code",
   "execution_count": 3,
   "id": "a0f4ac17",
   "metadata": {},
   "outputs": [],
   "source": [
    "import importlib\n",
    "import lib.measurement_claude\n",
    "import lib.validation\n",
    "importlib.reload(lib.measurement_claude)\n",
    "importlib.reload(lib.validation)\n",
    "from lib.measurement_claude import pcqi, get_piqe, fade, average_gradient\n",
    "from lib.validation import getScore_flexible\n"
   ]
  },
  {
   "cell_type": "code",
   "execution_count": 4,
   "id": "f11a80a4",
   "metadata": {},
   "outputs": [],
   "source": [
    "import os\n",
    "from tqdm import tqdm  # pastikan sudah install: pip install tqdm\n",
    "import csv\n",
    "import cv2\n",
    "\n",
    "def batch(\n",
    "        input_folder: str, \n",
    "        output_csv: str,\n",
    "        exts=(\".jpg\", \".jpeg\", \".png\", \".bmp\", \".tif\", \".tiff\"),\n",
    "        recursive: bool = False\n",
    "        ):\n",
    "    \n",
    "    # 1) Ambil isi folder\n",
    "    all_files = []\n",
    "    walker = os.walk(input_folder) if recursive else [(input_folder, [], os.listdir(input_folder))]\n",
    "    for root, _, files in walker:\n",
    "        for fname in files:\n",
    "            if fname.lower().endswith(exts):\n",
    "                all_files.append(os.path.abspath(os.path.join(root, fname)))\n",
    "    all_files.sort()\n",
    "    rows = []\n",
    "    tot_uiqm = 0\n",
    "    tot_uciqe = 0\n",
    "    tot_pcqi = 0\n",
    "    tot_piqe = 0\n",
    "    tot_fade = 0\n",
    "    tot_ag = 0\n",
    "    iter = 0\n",
    "    for fpath in tqdm(all_files, desc=\"Processing images\", unit=\"img\"):\n",
    "        filename = os.path.basename(fpath)\n",
    "\n",
    "        filename, uiqm_score, uciqe_score = getScore_flexible(fpath, \"\")\n",
    "\n",
    "        img = cv2.imread(fpath)\n",
    "        # uiqm_score = uiqm(img)\n",
    "        # uciqe_score = uciqe(img)\n",
    "        pcqi_score = pcqi(img)\n",
    "        piqe_score = get_piqe(img)\n",
    "        ag_score = average_gradient(img) \n",
    "        fade_score = fade(img)\n",
    "\n",
    "    # 2) Proses Disini\n",
    "\n",
    "        rows.append([\n",
    "            iter,\n",
    "            filename,\n",
    "            uiqm_score,\n",
    "            uciqe_score,\n",
    "            pcqi_score,\n",
    "            piqe_score,\n",
    "            ag_score,\n",
    "            fade_score\n",
    "        ])\n",
    "        iter = iter + 1\n",
    "        tot_uiqm = tot_uiqm + uiqm_score\n",
    "        tot_uciqe = tot_uciqe + uciqe_score\n",
    "        tot_pcqi = tot_pcqi + pcqi_score\n",
    "        tot_piqe = tot_piqe + piqe_score\n",
    "        tot_ag = tot_ag + ag_score\n",
    "        tot_fade = tot_fade + fade_score\n",
    "        \n",
    "    length = len(rows)\n",
    "    avg_uiqm = tot_uiqm / length\n",
    "    avg_uciqe = tot_uciqe / length\n",
    "    avg_pcqi = tot_pcqi / length\n",
    "    avg_piqe = tot_piqe / length\n",
    "    avg_ag = tot_ag / length\n",
    "    avg_fade = tot_fade / length\n",
    "\n",
    "    # 3) Tulis ke CSV\n",
    "    write_header = True\n",
    "    os.makedirs(os.path.dirname(output_csv) or \".\", exist_ok=True)\n",
    "    with open(output_csv, \"a\", newline=\"\", encoding=\"utf-8\") as f:\n",
    "        writer = csv.writer(f)\n",
    "        if write_header:\n",
    "            writer.writerow([\"id\",\"filename\", \"uiqm\", \"uciqe\", \"pcqi\",\"piqe\",\"ag\",\"fade\"])\n",
    "        writer.writerows(rows)\n",
    "\n",
    "    print(f\"Selesai. Diproses {len(rows)} \"\n",
    "            f\"Total sekarang (CSV) ≈ {len(rows)}.\")\n",
    "    print(f\"UIQM: {avg_uiqm}, UCIQE: {avg_uciqe}, PCQI: {avg_pcqi}, PIQE: {avg_piqe}, AG: {avg_ag}, FADE: {avg_fade}\")\n",
    "    return len(rows)\n",
    "\n",
    "\n"
   ]
  },
  {
   "cell_type": "code",
   "execution_count": 5,
   "id": "b10802d8",
   "metadata": {},
   "outputs": [
    {
     "name": "stderr",
     "output_type": "stream",
     "text": [
      "Processing images: 100%|██████████| 890/890 [15:59<00:00,  1.08s/img]"
     ]
    },
    {
     "name": "stdout",
     "output_type": "stream",
     "text": [
      "Selesai. Diproses 890 Total sekarang (CSV) ≈ 890.\n",
      "UIQM: 2.234600312499504, UCIQE: 2.3323336091040003, PCQI: 0.3809320757794237, PIQE: 31.6274475183551, AG: 121.47257960594604, FADE: 43.54834332761239\n"
     ]
    },
    {
     "name": "stderr",
     "output_type": "stream",
     "text": [
      "\n"
     ]
    },
    {
     "data": {
      "text/plain": [
       "890"
      ]
     },
     "execution_count": 5,
     "metadata": {},
     "output_type": "execute_result"
    }
   ],
   "source": [
    "process_name = \"2024_haofeng_hu_just_c\" #jadi folder dan nama file csv\n",
    "source_folder = \"../UIEB/results/\" + process_name\n",
    "batch(source_folder, \"hasil/\"+process_name+\"_metrics.csv\")"
   ]
  },
  {
   "cell_type": "code",
   "execution_count": null,
   "id": "252e3d9f",
   "metadata": {},
   "outputs": [
    {
     "name": "stderr",
     "output_type": "stream",
     "text": [
      "Processing images: 100%|██████████| 890/890 [15:39<00:00,  1.06s/img]"
     ]
    },
    {
     "name": "stdout",
     "output_type": "stream",
     "text": [
      "Selesai. Diproses 890 Total sekarang (CSV) ≈ 890.\n",
      "UIQM: 2.2380007926681604, UCIQE: 2.375155354330944, PCQI: 0.3740008991877308, PIQE: 31.62516177665992, AG: 117.77420873678601, FADE: 43.715721079593436\n"
     ]
    },
    {
     "name": "stderr",
     "output_type": "stream",
     "text": [
      "\n"
     ]
    },
    {
     "data": {
      "text/plain": [
       "890"
      ]
     },
     "execution_count": 3,
     "metadata": {},
     "output_type": "execute_result"
    }
   ],
   "source": [
    "# batch(\"../UIEB/results/2024_haofeng_hu/c\", \"hasil/2024_haofeng_hu_c.csv\")\n"
   ]
  }
 ],
 "metadata": {
  "kernelspec": {
   "display_name": "base",
   "language": "python",
   "name": "python3"
  },
  "language_info": {
   "codemirror_mode": {
    "name": "ipython",
    "version": 3
   },
   "file_extension": ".py",
   "mimetype": "text/x-python",
   "name": "python",
   "nbconvert_exporter": "python",
   "pygments_lexer": "ipython3",
   "version": "3.13.5"
  }
 },
 "nbformat": 4,
 "nbformat_minor": 5
}
