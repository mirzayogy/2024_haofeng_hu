{
 "cells": [
  {
   "cell_type": "markdown",
   "id": "82b0107d",
   "metadata": {},
   "source": [
    "# Proses Gambar Sumber A Output B"
   ]
  },
  {
   "cell_type": "code",
   "execution_count": 1,
   "id": "a2cd032f",
   "metadata": {},
   "outputs": [],
   "source": [
    "import os\n",
    "import csv\n",
    "import cv2\n",
    "from tqdm import tqdm  # pastikan sudah install: pip install tqdm\n",
    "\n",
    "import importlib\n",
    "import lib.export\n",
    "import lib.A_acc\n",
    "import lib.C_msds\n",
    "importlib.reload(lib.export)\n",
    "importlib.reload(lib.A_acc)\n",
    "importlib.reload(lib.C_msds)\n",
    "from lib.export import ekspor_png\n",
    "from lib.A_acc import get_ccf_wrapper\n",
    "from lib.C_msds import enhance_L_with_D_lab\n",
    "\n"
   ]
  },
  {
   "cell_type": "code",
   "execution_count": 2,
   "id": "12be8712",
   "metadata": {},
   "outputs": [],
   "source": [
    "def batch_lab_metrics_resume(\n",
    "    input_folder: str,\n",
    "    process_name: str,\n",
    "    output_csv: str,\n",
    "    cie: bool = True,\n",
    "    device: str = \"cuda\",\n",
    "    exts=(\".jpg\", \".jpeg\", \".png\", \".bmp\", \".tif\", \".tiff\"),\n",
    "    recursive: bool = False,\n",
    "    limit: int | None = None,\n",
    "):\n",
    "    \"\"\"\n",
    "    Batch processing dengan resume otomatis dari CSV + progress bar.\n",
    "    - Baca CSV (jika ada) → skip file yang sudah diproses.\n",
    "    - Proses hanya file sisa (bisa dibatasi 'limit').\n",
    "    - Progress bar ditampilkan dengan tqdm.\n",
    "    - Append hasil ke CSV (header ditulis kalau CSV belum ada).\n",
    "    \"\"\"\n",
    "    # 1) Kumpulkan semua file gambar\n",
    "    all_files = []\n",
    "    walker = os.walk(input_folder) if recursive else [(input_folder, [], os.listdir(input_folder))]\n",
    "    for root, _, files in walker:\n",
    "        for fname in files:\n",
    "            if fname.lower().endswith(exts):\n",
    "                all_files.append(os.path.abspath(os.path.join(root, fname)))\n",
    "    all_files.sort()\n",
    "\n",
    "    # 2) Baca CSV untuk skip file yang sudah diproses\n",
    "    done = set()\n",
    "    # if os.path.exists(output_csv):\n",
    "    #     try:\n",
    "    #         with open(output_csv, \"r\", newline=\"\", encoding=\"utf-8\") as f:\n",
    "    #             reader = csv.reader(f)\n",
    "    #             header = next(reader, None)\n",
    "    #             for row in reader:\n",
    "    #                 if row:\n",
    "    #                     done.add(os.path.abspath(row[0]))\n",
    "    #     except Exception as e:\n",
    "    #         print(f\"[PERINGATAN] Gagal baca CSV: {e}, lanjut tanpa resume.\")\n",
    "    #         done = set()\n",
    "\n",
    "    # 3) Tentukan sisa file\n",
    "    remaining = [p for p in all_files if p not in done]\n",
    "    if limit is not None:\n",
    "        remaining = remaining[:max(0, limit)]\n",
    "\n",
    "    if not remaining:\n",
    "        print(f\"Tidak ada file baru untuk diproses. Total sudah diproses: {len(done)}.\")\n",
    "        return 0\n",
    "\n",
    "    # 4) Proses file dengan progress bar\n",
    "    rows = []\n",
    "    iter = 0\n",
    "    for fpath in tqdm(remaining, desc=\"Processing images\", unit=\"img\"):\n",
    "        filename = os.path.basename(fpath)\n",
    "\n",
    "        metrics = get_ccf_wrapper(fpath, device) # metrics['CCF']/metrics['cast']\n",
    "        cast = metrics['cast']\n",
    "\n",
    "        img_bgr = cv2.imread(fpath)\n",
    "        im_eclahed = enhance_L_with_D_lab(img_bgr)\n",
    "        ekspor_png(im_eclahed, \"../UIEB/results/\" + process_name, filename)\n",
    "\n",
    "        rows.append([\n",
    "            iter,\n",
    "            filename,\n",
    "            cast,\n",
    "        ])\n",
    "        iter = iter + 1\n",
    "\n",
    "    # 5) Tulis ke CSV\n",
    "    os.makedirs(os.path.dirname(output_csv) or \".\", exist_ok=True)\n",
    "    write_header = not os.path.exists(output_csv)\n",
    "    with open(output_csv, \"a\", newline=\"\", encoding=\"utf-8\") as f:\n",
    "        writer = csv.writer(f)\n",
    "        if write_header:\n",
    "            writer.writerow([\"id\",\"filename\", \"cast\"])\n",
    "        writer.writerows(rows)\n",
    "\n",
    "    print(f\"Selesai. Diproses {len(rows)} file baru. Total sebelumnya: {len(done)}. \"\n",
    "          f\"Total sekarang (CSV) ≈ {len(done) + len(rows)}.\")\n",
    "    return len(rows)\n"
   ]
  },
  {
   "cell_type": "code",
   "execution_count": 3,
   "id": "681bba3e",
   "metadata": {},
   "outputs": [
    {
     "name": "stderr",
     "output_type": "stream",
     "text": [
      "Processing images: 100%|██████████| 890/890 [01:14<00:00, 12.02img/s]"
     ]
    },
    {
     "name": "stdout",
     "output_type": "stream",
     "text": [
      "Selesai. Diproses 890 file baru. Total sebelumnya: 0. Total sekarang (CSV) ≈ 890.\n"
     ]
    },
    {
     "name": "stderr",
     "output_type": "stream",
     "text": [
      "\n"
     ]
    },
    {
     "data": {
      "text/plain": [
       "890"
      ]
     },
     "execution_count": 3,
     "metadata": {},
     "output_type": "execute_result"
    }
   ],
   "source": [
    "source_folder = \"../UIEB/results/2024_haofeng_hu_b\"\n",
    "out_folder = \"\"\n",
    "process_name = \"2024_haofeng_hu_c\" #jadi folder dan nama file csv\n",
    "batch_lab_metrics_resume(source_folder, process_name, \"hasil/\"+process_name+\".csv\", limit=890)"
   ]
  },
  {
   "cell_type": "markdown",
   "id": "9615d256",
   "metadata": {},
   "source": [
    "Melihat color cast"
   ]
  },
  {
   "cell_type": "code",
   "execution_count": 4,
   "id": "cbc52bf0",
   "metadata": {},
   "outputs": [
    {
     "name": "stderr",
     "output_type": "stream",
     "text": [
      "Processing images: 100%|██████████| 890/890 [00:21<00:00, 40.83img/s]"
     ]
    },
    {
     "name": "stdout",
     "output_type": "stream",
     "text": [
      "Selesai. Diproses 890 Total sekarang (CSV) ≈ 890.\n"
     ]
    },
    {
     "name": "stderr",
     "output_type": "stream",
     "text": [
      "\n"
     ]
    },
    {
     "data": {
      "text/plain": [
       "890"
      ]
     },
     "execution_count": 4,
     "metadata": {},
     "output_type": "execute_result"
    }
   ],
   "source": [
    "\n",
    "import os\n",
    "from tqdm import tqdm  # pastikan sudah install: pip install tqdm\n",
    "import csv\n",
    "\n",
    "\n",
    "def batch(\n",
    "        input_folder: str, \n",
    "        output_csv: str,\n",
    "        exts=(\".jpg\", \".jpeg\", \".png\", \".bmp\", \".tif\", \".tiff\"),\n",
    "        recursive: bool = False\n",
    "        ):\n",
    "    \n",
    "    # 1) Ambil isi folder\n",
    "    all_files = []\n",
    "    walker = os.walk(input_folder) if recursive else [(input_folder, [], os.listdir(input_folder))]\n",
    "    for root, _, files in walker:\n",
    "        for fname in files:\n",
    "            if fname.lower().endswith(exts):\n",
    "                all_files.append(os.path.abspath(os.path.join(root, fname)))\n",
    "    all_files.sort()\n",
    "    rows = []\n",
    "    iter = 0\n",
    "    for fpath in tqdm(all_files, desc=\"Processing images\", unit=\"img\"):\n",
    "        filename = os.path.basename(fpath)\n",
    "\n",
    "    # 2) Proses Disini\n",
    "        metrics = get_ccf_wrapper(fpath, device=\"cuda\") # metrics['CCF']/metrics['cast']\n",
    "        cast = metrics['cast']\n",
    "\n",
    "        rows.append([\n",
    "            iter,\n",
    "            filename,\n",
    "            cast\n",
    "        ])\n",
    "        iter = iter + 1\n",
    "\n",
    "    # 3) Tulis ke CSV\n",
    "    os.makedirs(os.path.dirname(output_csv) or \".\", exist_ok=True)\n",
    "    write_header = True\n",
    "    with open(output_csv, \"a\", newline=\"\", encoding=\"utf-8\") as f:\n",
    "        writer = csv.writer(f)\n",
    "        if write_header:\n",
    "            writer.writerow([\"id\",\"filename\", \"cast\"])\n",
    "        writer.writerows(rows)\n",
    "\n",
    "    print(f\"Selesai. Diproses {len(rows)} \"\n",
    "            f\"Total sekarang (CSV) ≈ {len(rows)}.\")\n",
    "    return len(rows)\n",
    "\n",
    "batch(\"../UIEB/results/2024_haofeng_hu_c\", \"hasil/2024_haofeng_hu_d.csv\")\n"
   ]
  }
 ],
 "metadata": {
  "kernelspec": {
   "display_name": "base",
   "language": "python",
   "name": "python3"
  },
  "language_info": {
   "codemirror_mode": {
    "name": "ipython",
    "version": 3
   },
   "file_extension": ".py",
   "mimetype": "text/x-python",
   "name": "python",
   "nbconvert_exporter": "python",
   "pygments_lexer": "ipython3",
   "version": "3.13.5"
  }
 },
 "nbformat": 4,
 "nbformat_minor": 5
}
